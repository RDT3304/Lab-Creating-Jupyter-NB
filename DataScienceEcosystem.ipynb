{
 "cells": [
  {
   "cell_type": "markdown",
   "id": "7107e70b-e6d6-4f13-8ab2-d0c22f36c2e1",
   "metadata": {},
   "source": [
    "# Data Science Tools and Ecosystem"
   ]
  },
  {
   "cell_type": "markdown",
   "id": "76b60be9-17a2-41f6-883d-682ff6bc1646",
   "metadata": {},
   "source": [
    "In this notebook, Data Science Tools and Ecosystem are summarized."
   ]
  },
  {
   "cell_type": "markdown",
   "id": "fe299830-00fc-44b7-b10f-d953d1ede664",
   "metadata": {},
   "source": [
    "**Objectives:**\n",
    "- List Popular Languages for Data Science\n",
    "- List Commonly Used Libraries for Data Science\n",
    "- Conduct Exercises on Markdown cells and Headers"
   ]
  },
  {
   "cell_type": "markdown",
   "id": "e39e7911-9dcb-4d4a-84dd-5114d12a0fb8",
   "metadata": {},
   "source": [
    "Some of the popular languages that Data Scientists use are:\n",
    "\n",
    "1. Python\n",
    "2. R\n",
    "3. SQL"
   ]
  },
  {
   "cell_type": "markdown",
   "id": "cba76410-0c77-4b4c-8eba-e6834a33c14c",
   "metadata": {},
   "source": [
    "Some of the commonly used libraries used by Data Scientists include:\n",
    "\n",
    "1. Pandas\n",
    "2. Numpy\n",
    "3. Matplotlib"
   ]
  },
  {
   "cell_type": "markdown",
   "id": "f94f6e55-565d-4e05-b62f-427667638663",
   "metadata": {},
   "source": [
    "|Data Science Tools|\n",
    "|------------------|\n",
    "|Jupyter|\n",
    "|RStudio|\n",
    "|VS Code|"
   ]
  },
  {
   "cell_type": "markdown",
   "id": "caa281e0-0fb1-47ea-97a0-941062ff9fca",
   "metadata": {},
   "source": [
    "### Below are a few examples of evaluating arithmetic expressions in Python"
   ]
  },
  {
   "cell_type": "code",
   "execution_count": 1,
   "id": "512ba86b-fb8c-4106-8366-7f8640eb6004",
   "metadata": {
    "tags": []
   },
   "outputs": [
    {
     "data": {
      "text/plain": [
       "17"
      ]
     },
     "execution_count": 1,
     "metadata": {},
     "output_type": "execute_result"
    }
   ],
   "source": [
    "# This a simple arithmetic expression to mutiply then add integers\n",
    "(3*4)+5"
   ]
  },
  {
   "cell_type": "code",
   "execution_count": 2,
   "id": "614d2f4d-90a6-4273-9c18-3222fb69639f",
   "metadata": {
    "tags": []
   },
   "outputs": [
    {
     "data": {
      "text/plain": [
       "3.3333333333333335"
      ]
     },
     "execution_count": 2,
     "metadata": {},
     "output_type": "execute_result"
    }
   ],
   "source": [
    "# This will convert 200 minutes to hours by diving by 60\n",
    "\n",
    "200/60"
   ]
  },
  {
   "cell_type": "markdown",
   "id": "f2958460-3e69-45fd-a100-06630c9cec06",
   "metadata": {},
   "source": [
    "## Author\n",
    "Ramon Tomzer"
   ]
  },
  {
   "cell_type": "code",
   "execution_count": null,
   "id": "a1050d33-bece-4e6b-8c69-ca9fbe377771",
   "metadata": {},
   "outputs": [],
   "source": []
  }
 ],
 "metadata": {
  "kernelspec": {
   "display_name": "Python",
   "language": "python",
   "name": "conda-env-python-py"
  },
  "language_info": {
   "codemirror_mode": {
    "name": "ipython",
    "version": 3
   },
   "file_extension": ".py",
   "mimetype": "text/x-python",
   "name": "python",
   "nbconvert_exporter": "python",
   "pygments_lexer": "ipython3",
   "version": "3.7.12"
  }
 },
 "nbformat": 4,
 "nbformat_minor": 5
}
